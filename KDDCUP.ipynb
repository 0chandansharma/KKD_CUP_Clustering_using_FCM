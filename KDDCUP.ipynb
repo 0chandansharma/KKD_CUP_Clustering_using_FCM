{
 "cells": [
  {
   "cell_type": "code",
   "execution_count": 1,
   "metadata": {},
   "outputs": [],
   "source": [
    "import pandas as pd\n",
    "import random\n",
    "import operator\n",
    "import math\n",
    "import sklearn\n",
    "import numpy as np\n",
    "from sklearn import metrics"
   ]
  },
  {
   "cell_type": "code",
   "execution_count": 17,
   "metadata": {},
   "outputs": [],
   "source": [
    "df_full = pd.read_csv(r\"C:\\Users\\chandan sharma\\Desktop\\research\\majorproject\\ppr1\\code\\python\\KDD\\KDDcup99.csv\")#,usecols= range(1,2000))"
   ]
  },
  {
   "cell_type": "code",
   "execution_count": 26,
   "metadata": {},
   "outputs": [],
   "source": [
    "df_full=df_full.iloc[:400]"
   ]
  },
  {
   "cell_type": "code",
   "execution_count": 27,
   "metadata": {},
   "outputs": [],
   "source": [
    "from sklearn.preprocessing import LabelEncoder\n",
    "number=LabelEncoder()\n",
    "df_full['protocol_type']=number.fit_transform(df_full['protocol_type'].astype('str'))"
   ]
  },
  {
   "cell_type": "code",
   "execution_count": null,
   "metadata": {},
   "outputs": [],
   "source": []
  },
  {
   "cell_type": "code",
   "execution_count": 28,
   "metadata": {},
   "outputs": [],
   "source": [
    "df_full['service']=number.fit_transform(df_full['service'].astype('str'))"
   ]
  },
  {
   "cell_type": "code",
   "execution_count": 29,
   "metadata": {},
   "outputs": [],
   "source": [
    "df_full['flag']=number.fit_transform(df_full['flag'].astype('str'))"
   ]
  },
  {
   "cell_type": "code",
   "execution_count": 30,
   "metadata": {},
   "outputs": [],
   "source": [
    "df_full['label']=number.fit_transform(df_full['label'].astype('str'))"
   ]
  },
  {
   "cell_type": "code",
   "execution_count": 31,
   "metadata": {},
   "outputs": [],
   "source": [
    "columns = list(df_full.columns)\n",
    "features = columns[:len(columns)-1]\n",
    "class_labels = list(df_full[columns[-1]])\n",
    "df = df_full[features]\n",
    "num_attr = len(features)\n",
    "n=len(df)"
   ]
  },
  {
   "cell_type": "code",
   "execution_count": 33,
   "metadata": {},
   "outputs": [
    {
     "data": {
      "text/plain": [
       "400"
      ]
     },
     "execution_count": 33,
     "metadata": {},
     "output_type": "execute_result"
    }
   ],
   "source": [
    "n"
   ]
  },
  {
   "cell_type": "code",
   "execution_count": 34,
   "metadata": {},
   "outputs": [],
   "source": [
    "# cluster number\n",
    "k =3\n",
    "# max number of iterations\n",
    "max_iter = 10\n",
    "# Number of data points\n",
    "n = len(df)\n",
    "m = 1.80\n",
    "sm=0\n",
    "ent=0\n",
    "pc=0\n",
    "vpp=0"
   ]
  },
  {
   "cell_type": "code",
   "execution_count": 35,
   "metadata": {},
   "outputs": [],
   "source": [
    "def vp(membership_mat):\n",
    "    global vpp\n",
    "    max1=0\n",
    "    for i in range(n):\n",
    "        for j in range(k):\n",
    "               \n",
    "            if membership_mat[i][j]>max1:\n",
    "                max1=membership_mat[i][j];\n",
    "            else:\n",
    "                max1=max1;\n",
    "        vpp+=max1\n",
    "        #print(\"________________________\",max1)\n",
    "        #vpp+=f\n",
    "        nr=math.pow(vpp,2)\n",
    "    result= nr/n    \n",
    "    return result"
   ]
  },
  {
   "cell_type": "code",
   "execution_count": 36,
   "metadata": {},
   "outputs": [],
   "source": [
    "def purity_score(y_true, y_pred):\n",
    "    # compute contingency matrix (also called confusion matrix)\n",
    "    contingency_matrix = metrics.cluster.contingency_matrix(y_true, y_pred)\n",
    "    # return purity\n",
    "    return np.sum(np.amax(contingency_matrix, axis=0)) / np.sum(contingency_matrix)"
   ]
  },
  {
   "cell_type": "code",
   "execution_count": 37,
   "metadata": {},
   "outputs": [],
   "source": [
    "def mek(membership_mat):\n",
    "    global sm\n",
    "    for j in range(k):\n",
    "        for i in range(n):\n",
    "            sm+= membership_mat[i][j]\n",
    "    #mk=sm/n;\n",
    "    return sm;        \n",
    "            "
   ]
  },
  {
   "cell_type": "code",
   "execution_count": 38,
   "metadata": {},
   "outputs": [],
   "source": [
    "def partitioncoff(membership_mat):\n",
    "    global pc\n",
    "    for j in range(k):\n",
    "        for i in range(n):\n",
    "            pc+=(membership_mat[i][j]*membership_mat[i][j])\n",
    "        #print(\"_____\",pc)    \n",
    "    pc= pc/n;\n",
    "    return pc   "
   ]
  },
  {
   "cell_type": "code",
   "execution_count": 39,
   "metadata": {},
   "outputs": [],
   "source": [
    "def entropy(membership_mat):\n",
    "    global ent\n",
    "    #count=0;\n",
    "    for j in range(k):\n",
    "        for i in range(n):\n",
    "            g=math.pow(membership_mat[i][j],2)\n",
    "            ent+= g*(math.log(membership_mat[i][j]))\n",
    "    res=-(ent)/n\n",
    "    return res\n",
    "    #print(\"_________\")"
   ]
  },
  {
   "cell_type": "code",
   "execution_count": 40,
   "metadata": {},
   "outputs": [],
   "source": [
    "def initializeMembershipMatrix():\n",
    "    membership_mat = list()\n",
    "    for i in range(n):\n",
    "        random_num_list = [random.random() for i in range(k)]\n",
    "        summation = sum(random_num_list)\n",
    "        temp_list = [x/summation for x in random_num_list]\n",
    "        membership_mat.append(temp_list)\n",
    "    # print(membership_mat)\n",
    "    return membership_mat\n"
   ]
  },
  {
   "cell_type": "code",
   "execution_count": 41,
   "metadata": {},
   "outputs": [],
   "source": [
    "def initializeWeight():\n",
    "    Weight = [1 for i in range(n)]\n",
    "    return Weight\n"
   ]
  },
  {
   "cell_type": "code",
   "execution_count": 42,
   "metadata": {},
   "outputs": [],
   "source": [
    "def calculateClusterCenter(membership_mat, W):\n",
    "    #cluster_mem_val = zip(*membership_mat)\n",
    "    cluster_centers = list()\n",
    "    for j in range(k):\n",
    "        x = list(zip(*membership_mat))[j]\n",
    "        #x = list(cluster_mem_val[j])\n",
    "        xraised = [e ** m for e in x]\n",
    "        xraised_mul_W = [a*b for a, b in zip(xraised, W)]\n",
    "        denominator = sum(xraised_mul_W)\n",
    "        temp_num = list()\n",
    "        for i in range(n):\n",
    "            data_point = list(df.iloc[i])\n",
    "            prod = [xraised_mul_W[i] *val for val in data_point]\n",
    "            temp_num.append(prod)\n",
    "        numerator = map(sum, zip(*temp_num))\n",
    "        center = [z/denominator for z in numerator]\n",
    "        cluster_centers.append(center)\n",
    "    return cluster_centers\n"
   ]
  },
  {
   "cell_type": "code",
   "execution_count": 43,
   "metadata": {},
   "outputs": [],
   "source": [
    "\n",
    "def updatemembershipvalue(U, C):\n",
    "    alpha = float(1/(m-1))\n",
    "    for i in range(k):\n",
    "        for j in range(n):\n",
    "            x = list(df.iloc[j])\n",
    "            numerator = [(a-b)**2 for a, b in zip(x, C[i])]\n",
    "            num = sum(numerator)\n",
    "            dis = [map(operator.sub, x, C[k1]) for k1 in range(k)]\n",
    "            denominator = [map(lambda x: x**2, dis[j1]) for j1 in range(k)]\n",
    "            den = [sum(denominator[k1]) for k1 in range(k)]\n",
    "            res = sum([math.pow(float(num/den[k1]), alpha) for k1 in range(k)])\n",
    "            U[j][i] = float(1/res)\n",
    "    return U"
   ]
  },
  {
   "cell_type": "code",
   "execution_count": 44,
   "metadata": {},
   "outputs": [],
   "source": [
    "def getClusters(membership_mat):\n",
    "    cluster_labels = list()\n",
    "    for i in range(n):\n",
    "        max_val, idx = max((val, idx) for (idx, val) in enumerate(membership_mat[i]))\n",
    "        cluster_labels.append(idx)\n",
    "    return cluster_labels"
   ]
  },
  {
   "cell_type": "code",
   "execution_count": 45,
   "metadata": {},
   "outputs": [],
   "source": [
    "def WFCM():\n",
    "    W = initializeWeight()\n",
    "    U = initializeMembershipMatrix()\n",
    "    center = calculateClusterCenter(U, W)\n",
    "    i = 0\n",
    "    while(i <= max_iter):\n",
    "        U = updatemembershipvalue(U, center)\n",
    "        center = calculateClusterCenter(U, W)\n",
    "        cluster_labels = getClusters(U)\n",
    "        i += 1\n",
    "   # print(U)\n",
    "    entro=entropy(U)\n",
    "    pcvalue=partitioncoff(U) \n",
    "    dmk=mek(U)\n",
    "    findvp=vp(U)\n",
    "    #print(membership_mat)\n",
    "    #print(\"datasize=\",n)\n",
    "    #print(\"num of cluster=\",k)\n",
    "    #print(\"entro=\",entro) \n",
    "    #print(\"PC=\",pcvalue)\n",
    "    #print(\"DMK value= \",dmk)\n",
    "    #print(\"find vp=\",findvp)\n",
    "    return center, U,cluster_labels"
   ]
  },
  {
   "cell_type": "code",
   "execution_count": 46,
   "metadata": {},
   "outputs": [],
   "source": [
    "C, U, labels = WFCM()"
   ]
  },
  {
   "cell_type": "code",
   "execution_count": 47,
   "metadata": {},
   "outputs": [
    {
     "name": "stdout",
     "output_type": "stream",
     "text": [
      "++++++++======++++\n"
     ]
    }
   ],
   "source": [
    "#print(labels)\n",
    "print(\"++++++++======++++\")\n",
    "result=sklearn.metrics.confusion_matrix(labels,class_labels)"
   ]
  },
  {
   "cell_type": "code",
   "execution_count": 48,
   "metadata": {},
   "outputs": [
    {
     "name": "stdout",
     "output_type": "stream",
     "text": [
      "silhoutte score:::: 0.7922765104081653\n",
      "Calinski-harabaz index:  946.4785369309819\n",
      "purity= 1.0\n"
     ]
    }
   ],
   "source": [
    "#print(result)\n",
    "#labels.sort()\n",
    "print(\"silhoutte score::::\",metrics.silhouette_score(df,labels,metric='euclidean'))\n",
    "print(\"Calinski-harabaz index: \", (metrics.calinski_harabaz_score(df,labels)))\n",
    "print(\"purity=\",purity_score(class_labels, labels))"
   ]
  },
  {
   "cell_type": "code",
   "execution_count": 49,
   "metadata": {},
   "outputs": [
    {
     "name": "stdout",
     "output_type": "stream",
     "text": [
      "F-measures= 0.7952688172043011\n",
      "rand index= 0.0\n",
      "purity score= 0.86\n",
      "accuracy= 0.86\n"
     ]
    },
    {
     "name": "stderr",
     "output_type": "stream",
     "text": [
      "C:\\Users\\chandan sharma\\Anaconda3\\lib\\site-packages\\sklearn\\metrics\\classification.py:1143: UndefinedMetricWarning: F-score is ill-defined and being set to 0.0 in labels with no predicted samples.\n",
      "  'precision', 'predicted', average, warn_for)\n"
     ]
    }
   ],
   "source": [
    "print(\"F-measures=\",metrics.f1_score(labels,class_labels,average='weighted'))\n",
    "print(\"rand index=\",metrics.adjusted_rand_score(labels,class_labels))\n",
    "print(\"purity score=\",purity_score(labels,class_labels))\n",
    "hello=sklearn.metrics.completeness_score(labels, class_labels)\n",
    "print(\"accuracy=\",metrics.accuracy_score(labels, class_labels))"
   ]
  },
  {
   "cell_type": "code",
   "execution_count": null,
   "metadata": {},
   "outputs": [],
   "source": []
  }
 ],
 "metadata": {
  "kernelspec": {
   "display_name": "Python 3",
   "language": "python",
   "name": "python3"
  },
  "language_info": {
   "codemirror_mode": {
    "name": "ipython",
    "version": 3
   },
   "file_extension": ".py",
   "mimetype": "text/x-python",
   "name": "python",
   "nbconvert_exporter": "python",
   "pygments_lexer": "ipython3",
   "version": "3.7.3"
  }
 },
 "nbformat": 4,
 "nbformat_minor": 2
}
